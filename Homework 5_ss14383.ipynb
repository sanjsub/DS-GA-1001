{
 "cells": [
  {
   "cell_type": "markdown",
   "metadata": {},
   "source": [
    "# Introduction to Data Science\n",
    "## Homework 5"
   ]
  },
  {
   "cell_type": "markdown",
   "metadata": {},
   "source": [
    "Student Name: Sanjay Subramanian\n",
    "\n",
    "Student Netid: ss14383\n",
    "***"
   ]
  },
  {
   "cell_type": "markdown",
   "metadata": {},
   "source": [
    "### Part 1: Naive Bayes (5 Points)"
   ]
  },
  {
   "cell_type": "markdown",
   "metadata": {},
   "source": [
    "1\\. From your reading you know that the naive Bayes classifier works by calculating the conditional probabilities of each feature, $e_i$, occuring with each class $c$ and treating them independently. This results in the probability of a certain class occuring given a set of features, or a piece of evidence, $E$, as\n",
    "\n",
    "$$P(c \\mid E) = \\frac{p(e_1 \\mid c) \\cdot p(e_2 \\mid c) \\cdot \\cdot \\cdot p(e_k \\mid c) \\cdot p(c)}{p(E)}.$$\n",
    "\n",
    "The conditional probability of each piece of evidence occuring with a given class is given by\n",
    "\n",
    "$$P(e_i \\mid c) = \\frac{\\text{count}(e_i, c)}{\\text{count}(c)}.$$\n",
    "\n",
    "In the above equation $\\text{count}(e_i, c)$ is the number of documents in a given class that contain feature $e_i$ and $\\text{count}(c)$ is the number of documents that belong to class $c$. \n",
    "\n",
    "A common variation of the above is to use Laplace (sometimes called +1) smoothing. Recall the use of Laplace smoothing introduced toward the end of Chapter 3 in the section Probability Estimation. This is done in sklearn by setting `alpha=1` in the `BernoulliNB()` function (this is also the default behavior). The result of Laplace smoothing will slightly change the conditional probabilities,\n",
    "\n",
    "$$P(e_i \\mid c) = \\frac{\\text{count}(e_i, c) + 1}{\\text{count}(c) + 2}.$$\n",
    "\n",
    "In no more than **one paragraph**, describe why this is useful, and use the bias-variance tradeoff to justify its use. Try to think of a case when not using Laplace smoothing would result in \"bad\" models. Try to give an example. Be precise."
   ]
  },
  {
   "cell_type": "markdown",
   "metadata": {},
   "source": [
    "Laplace smoothing in this case introduces a small amount of bias to remove a large amount of variance that could arise with new or unique instances that would drive conditional probabilities to zero. This potential override of established probabilities given new instances can be avoided with these small (+1/+2) error additions. This additive smoothing can introduce varying levels of bias, but importantly allows for better classification by reducing extreme variance. An example in this case could be a set of negative words such as \"horrible\", \"terrible\", etc., which only show up in a sample of Negatively classified reviews. We cannot reasonably expect these words to never appear in Positive reviews (\"This movie was NOT horrible!\"), so we can update the conditional probabilities of these words given our Positive review set by implying a small number of instances of these words such that we introduce a minimal bias but drive variance down."
   ]
  },
  {
   "cell_type": "markdown",
   "metadata": {},
   "source": [
    "### Part 2: Text classification for sentiment analysis (20 Points)\n",
    "For this part of the assignment, we are going to use a data set of movie ratings from IMDB.com. The data consists of the text of a movie review and a target variable which tells us whether the reviewer had a positive feeling towards the movie (equivalent to rating the movie between 7 and 10) or a negative feeling (rating the movie between 1 and 4). Neutral reactions are not included in the data.\n",
    "\n",
    "The first column is the review text; the second is the text label 'P' for positive or 'N' for negative."
   ]
  },
  {
   "cell_type": "markdown",
   "metadata": {},
   "source": [
    "1 (1 Point) \\. Load the data into a pandas `DataFrame()`."
   ]
  },
  {
   "cell_type": "code",
   "execution_count": 1,
   "metadata": {},
   "outputs": [],
   "source": [
    "import pandas as pd\n",
    "import numpy as np\n",
    "from sklearn.model_selection import train_test_split"
   ]
  },
  {
   "cell_type": "code",
   "execution_count": 2,
   "metadata": {},
   "outputs": [
    {
     "data": {
      "text/html": [
       "<div>\n",
       "<style scoped>\n",
       "    .dataframe tbody tr th:only-of-type {\n",
       "        vertical-align: middle;\n",
       "    }\n",
       "\n",
       "    .dataframe tbody tr th {\n",
       "        vertical-align: top;\n",
       "    }\n",
       "\n",
       "    .dataframe thead th {\n",
       "        text-align: right;\n",
       "    }\n",
       "</style>\n",
       "<table border=\"1\" class=\"dataframe\">\n",
       "  <thead>\n",
       "    <tr style=\"text-align: right;\">\n",
       "      <th></th>\n",
       "      <th>Text</th>\n",
       "      <th>Class</th>\n",
       "    </tr>\n",
       "  </thead>\n",
       "  <tbody>\n",
       "    <tr>\n",
       "      <th>0</th>\n",
       "      <td>'One of the first of the best musicals Anchors...</td>\n",
       "      <td>P</td>\n",
       "    </tr>\n",
       "    <tr>\n",
       "      <th>1</th>\n",
       "      <td>'Visually disjointed and full of itself the di...</td>\n",
       "      <td>N</td>\n",
       "    </tr>\n",
       "    <tr>\n",
       "      <th>2</th>\n",
       "      <td>'These type of movies about young teenagers st...</td>\n",
       "      <td>P</td>\n",
       "    </tr>\n",
       "    <tr>\n",
       "      <th>3</th>\n",
       "      <td>'I would rather of had my eyes gouged out with...</td>\n",
       "      <td>N</td>\n",
       "    </tr>\n",
       "    <tr>\n",
       "      <th>4</th>\n",
       "      <td>'The title says it all. Tail Gunner Joe was a ...</td>\n",
       "      <td>N</td>\n",
       "    </tr>\n",
       "  </tbody>\n",
       "</table>\n",
       "</div>"
      ],
      "text/plain": [
       "                                                Text Class\n",
       "0  'One of the first of the best musicals Anchors...     P\n",
       "1  'Visually disjointed and full of itself the di...     N\n",
       "2  'These type of movies about young teenagers st...     P\n",
       "3  'I would rather of had my eyes gouged out with...     N\n",
       "4  'The title says it all. Tail Gunner Joe was a ...     N"
      ]
     },
     "execution_count": 2,
     "metadata": {},
     "output_type": "execute_result"
    }
   ],
   "source": [
    "imdb = pd.read_csv('imdb.csv', header = 0)\n",
    "imdb.head(5)"
   ]
  },
  {
   "cell_type": "markdown",
   "metadata": {},
   "source": [
    "2 (1 Point)\\. Code the target variable to be numeric: use the value `1` to represent 'P' and `0` to represent 'N'."
   ]
  },
  {
   "cell_type": "code",
   "execution_count": 3,
   "metadata": {},
   "outputs": [
    {
     "data": {
      "text/html": [
       "<div>\n",
       "<style scoped>\n",
       "    .dataframe tbody tr th:only-of-type {\n",
       "        vertical-align: middle;\n",
       "    }\n",
       "\n",
       "    .dataframe tbody tr th {\n",
       "        vertical-align: top;\n",
       "    }\n",
       "\n",
       "    .dataframe thead th {\n",
       "        text-align: right;\n",
       "    }\n",
       "</style>\n",
       "<table border=\"1\" class=\"dataframe\">\n",
       "  <thead>\n",
       "    <tr style=\"text-align: right;\">\n",
       "      <th></th>\n",
       "      <th>Text</th>\n",
       "      <th>Class</th>\n",
       "    </tr>\n",
       "  </thead>\n",
       "  <tbody>\n",
       "    <tr>\n",
       "      <th>0</th>\n",
       "      <td>'One of the first of the best musicals Anchors...</td>\n",
       "      <td>1.0</td>\n",
       "    </tr>\n",
       "    <tr>\n",
       "      <th>1</th>\n",
       "      <td>'Visually disjointed and full of itself the di...</td>\n",
       "      <td>0.0</td>\n",
       "    </tr>\n",
       "    <tr>\n",
       "      <th>2</th>\n",
       "      <td>'These type of movies about young teenagers st...</td>\n",
       "      <td>1.0</td>\n",
       "    </tr>\n",
       "    <tr>\n",
       "      <th>3</th>\n",
       "      <td>'I would rather of had my eyes gouged out with...</td>\n",
       "      <td>0.0</td>\n",
       "    </tr>\n",
       "    <tr>\n",
       "      <th>4</th>\n",
       "      <td>'The title says it all. Tail Gunner Joe was a ...</td>\n",
       "      <td>0.0</td>\n",
       "    </tr>\n",
       "  </tbody>\n",
       "</table>\n",
       "</div>"
      ],
      "text/plain": [
       "                                                Text  Class\n",
       "0  'One of the first of the best musicals Anchors...    1.0\n",
       "1  'Visually disjointed and full of itself the di...    0.0\n",
       "2  'These type of movies about young teenagers st...    1.0\n",
       "3  'I would rather of had my eyes gouged out with...    0.0\n",
       "4  'The title says it all. Tail Gunner Joe was a ...    0.0"
      ]
     },
     "execution_count": 3,
     "metadata": {},
     "output_type": "execute_result"
    }
   ],
   "source": [
    "imdb.replace(['P', 'N'], [1, 0], inplace = True)\n",
    "imdb.head(5)"
   ]
  },
  {
   "cell_type": "markdown",
   "metadata": {},
   "source": [
    "3 (2 Points)\\. Put all of the text into a data frame called `X` and the target variable in a data frame called `Y`. Make a train/test split where you give 75% of the data to training. Feel free to use any function from sklearn."
   ]
  },
  {
   "cell_type": "code",
   "execution_count": 4,
   "metadata": {},
   "outputs": [],
   "source": [
    "X = pd.DataFrame(imdb.drop('Class', axis = 1))\n",
    "Y = pd.DataFrame(imdb.drop('Text', axis = 1))"
   ]
  },
  {
   "cell_type": "code",
   "execution_count": 5,
   "metadata": {},
   "outputs": [],
   "source": [
    "X_train, X_test, Y_train, Y_test = train_test_split(X, Y, train_size = 0.75, random_state=42)"
   ]
  },
  {
   "cell_type": "markdown",
   "metadata": {},
   "source": [
    "4 (5 Points)\\. Create a binary `CountVectorizer()` and a binary `TfidfVectorizer()`. Use the original single words as well as bigrams (in the same model). Also, use an \"english\" stop word list. Fit these to the training data to extract a vocabulary and then transform both the train and test data. Hint - look at the API documentation for both vectorizers to see what we mean by \"binary.\""
   ]
  },
  {
   "cell_type": "code",
   "execution_count": 6,
   "metadata": {},
   "outputs": [
    {
     "data": {
      "text/plain": [
       "TfidfVectorizer(binary=True, ngram_range=(1, 2), stop_words='english')"
      ]
     },
     "execution_count": 6,
     "metadata": {},
     "output_type": "execute_result"
    }
   ],
   "source": [
    "from sklearn.feature_extraction.text import CountVectorizer\n",
    "from sklearn.feature_extraction.text import TfidfVectorizer\n",
    "\n",
    "vectorizer = CountVectorizer(binary = True, stop_words = 'english', ngram_range = (1, 2))\n",
    "vectorizer.fit(X_train['Text'])\n",
    "\n",
    "tfidf_vectorizer = TfidfVectorizer(binary = True, stop_words = 'english', ngram_range = (1, 2))\n",
    "tfidf_vectorizer.fit(X_train['Text'])"
   ]
  },
  {
   "cell_type": "code",
   "execution_count": 7,
   "metadata": {},
   "outputs": [],
   "source": [
    "X_train_count = vectorizer.transform(X_train['Text'])\n",
    "X_test_count = vectorizer.transform(X_test['Text'])\n",
    "\n",
    "X_train_tfidf = tfidf_vectorizer.transform(X_train['Text'])\n",
    "X_test_tfidf = tfidf_vectorizer.transform(X_test['Text'])"
   ]
  },
  {
   "cell_type": "markdown",
   "metadata": {},
   "source": [
    "5 (6 Points)\\. Create `LogisticRegression()` and `BernoulliNB()` models. For all settings, keep the default values. In a single plot, show the AUC curve for both classifiers and both vectorizers defined above. In the legend, include the area under the ROC curve (AUC). Do not forget to label your axes. Your final plot will be a single window with 4 curves.\n",
    "\n",
    "Which model do you think does a better job? Why? Explain in no more than a paragraph.\n",
    "\n",
    "Extra credit (2 points): Do any of the options perform identically? If so, can you explain why?"
   ]
  },
  {
   "cell_type": "code",
   "execution_count": 8,
   "metadata": {},
   "outputs": [],
   "source": [
    "# Run this so your plots show properly\n",
    "import matplotlib.pyplot as plt\n",
    "%matplotlib inline\n",
    "plt.rcParams['figure.figsize'] = 6, 6"
   ]
  },
  {
   "cell_type": "code",
   "execution_count": 9,
   "metadata": {},
   "outputs": [],
   "source": [
    "from sklearn.linear_model import LogisticRegression\n",
    "from sklearn.naive_bayes import BernoulliNB\n",
    "from sklearn import metrics\n",
    "\n",
    "fprs, tprs, roc_labels, aucs = [], [], [], []\n",
    "def modelselect(model, vec):\n",
    "    if model == 'LR':\n",
    "        model = LogisticRegression()\n",
    "        if vec == 'count':\n",
    "            model.fit(X_train_count, np.nan_to_num(Y_train['Class']))\n",
    "            fpr, tpr, thresholds = metrics.roc_curve(np.nan_to_num(Y_test['Class']), model.predict_proba(X_test_count)[:,1])\n",
    "            auc = metrics.auc(fpr, tpr)\n",
    "            tprs.append(tpr)\n",
    "            fprs.append(fpr)\n",
    "            roc_labels.append(\"LR Count\")\n",
    "            aucs.append(auc)\n",
    "        if vec == 'tfidf':\n",
    "            model.fit(X_train_tfidf, np.nan_to_num(Y_train['Class']))\n",
    "            fpr, tpr, thresholds = metrics.roc_curve(np.nan_to_num(Y_test['Class']), model.predict_proba(X_test_tfidf)[:,1])\n",
    "            auc = metrics.auc(fpr, tpr)\n",
    "            tprs.append(tpr)\n",
    "            fprs.append(fpr)\n",
    "            roc_labels.append(\"LR Tfidf\")\n",
    "            aucs.append(auc)\n",
    "    if model == 'BN':\n",
    "        model = BernoulliNB()\n",
    "        if vec == 'count':\n",
    "            model.fit(X_train_count, np.nan_to_num(Y_train['Class']))\n",
    "            fpr, tpr, thresholds = metrics.roc_curve(np.nan_to_num(Y_test['Class']), model.predict_proba(X_test_count)[:,1])\n",
    "            auc = metrics.auc(fpr, tpr)\n",
    "            tprs.append(tpr)\n",
    "            fprs.append(fpr)\n",
    "            roc_labels.append(\"Bernoulli Count\")\n",
    "            aucs.append(auc)\n",
    "        if vec == 'tfidf':\n",
    "            model.fit(X_train_tfidf, np.nan_to_num(Y_train['Class']))\n",
    "            fpr, tpr, thresholds = metrics.roc_curve(np.nan_to_num(Y_test['Class']), model.predict_proba(X_test_tfidf)[:,1])\n",
    "            auc = metrics.auc(fpr, tpr)\n",
    "            tprs.append(tpr)\n",
    "            fprs.append(fpr)\n",
    "            roc_labels.append(\"Bernoulli Tfidf\")\n",
    "            aucs.append(auc)\n",
    "    return"
   ]
  },
  {
   "cell_type": "code",
   "execution_count": 10,
   "metadata": {},
   "outputs": [
    {
     "data": {
      "image/png": "[encoded data removed]",
      "text/plain": [
       "<Figure size 432x432 with 1 Axes>"
      ]
     },
     "metadata": {
      "needs_background": "light"
     },
     "output_type": "display_data"
    }
   ],
   "source": [
    "models, vecs = ['LR', 'BN'], ['count', 'tfidf']\n",
    "for model in models:\n",
    "    for vec in vecs:\n",
    "        modelselect(model, vec)\n",
    "\n",
    "for fpr, tpr, roc_label, auc in zip(fprs, tprs, roc_labels, aucs):\n",
    "    plt.plot(fpr, tpr, label = roc_label + ' (AUC = %0.5f)' % auc)\n",
    "plt.xlabel(\"fpr\")\n",
    "plt.ylabel(\"tpr\")\n",
    "plt.title(\"ROC Curves\")\n",
    "plt.legend(loc = 'lower right')\n",
    "plt.xlim([0, 1])\n",
    "plt.ylim([0, 1])\n",
    "plt.show()"
   ]
  },
  {
   "cell_type": "markdown",
   "metadata": {},
   "source": [
    "In the ROC plot above, we can see that the LR Tfidf model seems to perform the best, while the two Bernoulli NB models output the same AUC values, which are lower in general than the LR AUC values. This may be attributed to the fact that the NB model works best when conditional independence holds. However, in movie reviews, this assumption may not be reasonable given the connection between certain words (i.e. the word \"weapon\" in text makes it more likely to see the words \"action\" or \"explosion\"). In terms of CountVectorization vs TfidfVectorization, merely counting instances may bias our predictions in favor of high-frequency words, whereas Tfidf weights frequencies across all documents such that less common words with a higher predictive value are represented accordingly.\n",
    "\n",
    "In terms of why both Bernoulli NB models performed equivalently, this can be attributed to the fact that NB models classify occurrences rather than frequencies, meaning weighting of word counts is thrown out in favor of just instances. This neutralizes the difference between the Count and Tfidf methods and causes the models to be equivalent"
   ]
  },
  {
   "cell_type": "markdown",
   "metadata": {
    "collapsed": true
   },
   "source": [
    "5\\. Use the model from question 4 that you think did the best job and predict the rating of the test data. Find 5 examples were labeled positive, but were incorrectly classified as negative. Print out the reviews below and include an explanation as to why you think it may have been incorrectly classified. You can pick any 5. They do not have to be at random."
   ]
  },
  {
   "cell_type": "code",
   "execution_count": 11,
   "metadata": {},
   "outputs": [],
   "source": [
    "tfidf_vectorizer = TfidfVectorizer(binary = True, stop_words = 'english', ngram_range = (1, 2))\n",
    "tfidf_vectorizer.fit(X['Text'])\n",
    "X_tfidf = tfidf_vectorizer.transform(X['Text'])\n",
    "\n",
    "model = LogisticRegression()\n",
    "model.fit(X_tfidf, np.nan_to_num(Y['Class']))\n",
    "\n",
    "pred = model.predict(X_tfidf)\n",
    "classifier = pd.DataFrame({'pred': pred, 'true': Y['Class']})"
   ]
  },
  {
   "cell_type": "code",
   "execution_count": 12,
   "metadata": {},
   "outputs": [
    {
     "data": {
      "text/html": [
       "<div>\n",
       "<style scoped>\n",
       "    .dataframe tbody tr th:only-of-type {\n",
       "        vertical-align: middle;\n",
       "    }\n",
       "\n",
       "    .dataframe tbody tr th {\n",
       "        vertical-align: top;\n",
       "    }\n",
       "\n",
       "    .dataframe thead th {\n",
       "        text-align: right;\n",
       "    }\n",
       "</style>\n",
       "<table border=\"1\" class=\"dataframe\">\n",
       "  <thead>\n",
       "    <tr style=\"text-align: right;\">\n",
       "      <th></th>\n",
       "      <th>Text</th>\n",
       "      <th>Class</th>\n",
       "    </tr>\n",
       "  </thead>\n",
       "  <tbody>\n",
       "    <tr>\n",
       "      <th>7500</th>\n",
       "      <td>'Frownland is like one of those intensely emba...</td>\n",
       "      <td>1.0</td>\n",
       "    </tr>\n",
       "    <tr>\n",
       "      <th>6424</th>\n",
       "      <td>'I must say I thought I had seen it all. I am ...</td>\n",
       "      <td>1.0</td>\n",
       "    </tr>\n",
       "    <tr>\n",
       "      <th>4362</th>\n",
       "      <td>'Stupid Stupid Stupid. I think that Angelina J...</td>\n",
       "      <td>1.0</td>\n",
       "    </tr>\n",
       "    <tr>\n",
       "      <th>4134</th>\n",
       "      <td>'I just want to say that I am so glad somebody...</td>\n",
       "      <td>1.0</td>\n",
       "    </tr>\n",
       "    <tr>\n",
       "      <th>7243</th>\n",
       "      <td>'Was this based on a comic-book? A video-game?...</td>\n",
       "      <td>1.0</td>\n",
       "    </tr>\n",
       "  </tbody>\n",
       "</table>\n",
       "</div>"
      ],
      "text/plain": [
       "                                                   Text  Class\n",
       "7500  'Frownland is like one of those intensely emba...    1.0\n",
       "6424  'I must say I thought I had seen it all. I am ...    1.0\n",
       "4362  'Stupid Stupid Stupid. I think that Angelina J...    1.0\n",
       "4134  'I just want to say that I am so glad somebody...    1.0\n",
       "7243  'Was this based on a comic-book? A video-game?...    1.0"
      ]
     },
     "execution_count": 12,
     "metadata": {},
     "output_type": "execute_result"
    }
   ],
   "source": [
    "wrong = classifier[classifier['pred'] != classifier['true']].index.tolist()\n",
    "imdb_wrong = imdb[imdb.index.isin(wrong)]\n",
    "samp = imdb_wrong.sample(5)\n",
    "samp"
   ]
  },
  {
   "cell_type": "code",
   "execution_count": 15,
   "metadata": {},
   "outputs": [
    {
     "name": "stdout",
     "output_type": "stream",
     "text": [
      "'Frownland is like one of those intensely embarrassing situations where you end up laughing out loud at exactly the wrong time; and just at the moment you realize you shouldnt be laughing youve already reached the pinnacle of voice resoundness; and as you look around you at the ghostly white faces with their gaping wide-open mouths and glazen eyes you feel a piercing ache beginning in the pit of your stomach and suddenly rushing up your throat and... well you get the point. But for all its unpleasantness and punches in the face Frownland really is a remarkable piece of work that after viewing the inarticulate mess of a main character and all his pathetic troubles and mishaps makes you want to scratch your own eyes out and at the same time you feel sickenly sorry for him. It would have been a lot easier for me to simply walk out of Ronald Bronsteins film but for some insane reason I felt an unwavering determination to stay the course and experience all the grainy irritation the film has to offer. If someone sets you on fire you typically want to put it out: Stop! Drop! And Roll! But with this film you want to watch the flame slowly engulf your entire body. You endure the pain--perhaps out of spite or some unknown masochistic curiosity I cant even begin to attempt to explain. Unfortunately mainstream cinema will never let this film come to a theater near you. But if you get a chance to catch it prepare yourself: bring a doggie bag.'\n",
      "'I must say I thought I had seen it all. I am an extremely jaded movie buff. This movie didnt shock me by any means. Im way past that point. But it did take me to certain emotional places I didnt know I could go to. I had no idea I could ever find (ick) the idea of beastiality erotic. Never never never. Ever. Ever. But there you go. He did it. I have to give the director credit. He pulled it off. For the first 40 minutes this movie is a TOTAL bore. We start off with some very explicit footage of two horses having sex. After five minutes of this I started wondering if buying this movie wasnt a mistake. Then an old guy in a wheelchair talks to some other old guy about two people getting married. Then some nervous guy shaves. Then we see (briefly) a hot chick getting it on with a butler (but this is very brief). At this point I was cursing the movie out loud while trying to stay awake. In fact I fell asleep at about the 40 minute mark and forced myself to finish it the next night. We finally get the good stuff when a girl (who knows who she is or who anyone is in this movie) has a dream about a Victorian-era gal being ravaged by a beast-thing in the forest. The scene goes on for quite some time and is really the meat (heh-heh) of the whole deal. Its beautifully shot superbly edited and does deliver the goods. They do try to wrap up the plot at the end and it sort of makes sense but sort of doesnt either. Oh well. I would definitely recommend this film. The first 40 minutes made me want to shoot myself (and my TV) but the last 50 minutes totally redeems it.'\n",
      "'Stupid Stupid Stupid. I think that Angelina Jolie is probably one of the most talented actress today but a movie like this isnt just worth her time. She deserves better and so does everyone else in this movie. Talent is just wasted. Sorry but i dont feel like writing a review for this. I give it NO stars out of *****.'\n",
      "'I just want to say that I am so glad somebody finally spilled the beans on this movie. Bravo The Spaz Bravo! This movie is a ridiculous farce of film-making. Especially for a student film! I just want to give credit to the Spazz for taking the absurd amount of time a care to find such a rare picture and then TO COMMENT ON IT! Most people I know dont have that kind of time especially so few will end of reading it. Kudos to you sir! Anyway the movie follows a thin storyline that is at the least unbelievable and just plain silly. I understand the idea behind creating a satire of Charlies Angels but why hire such atrocious actresses! Also what kind of director has himself act write produce and also edit the picture! Choose one job and put all your love into it man! Its such a shame because I hear he made a good movie about a killer toothbrush. Again thanks to the Spazz for pulling back the curtain on this film people like you are a rare find.'\n",
      "'Was this based on a comic-book? A video-game? A drawing by a 3 year-old?  There is nothing in this movie to be taken seriously at all; not the characters not the dialog not the plot not the action. Nothing. We have high-tech international terrorists/criminals who bicker like pre-school kids Stallones man-of-steel-type resilience towards ice-cold weather dialog so dumb that its sometimes almost hilarious and so on. Even the codename that the bad guys use is dumb (tango-tango). A film that entertains through some suspense good action-sequences and a nice snowy mountainous setting. Oh yes: and the unintentional humour. The film opens with some truly bad and unconvincing gay banter between our go-lucky and happy characters who are obviously having a swell time. Then comes a sweat-inducing failed-rescue part which should make anyone with fear-of-heights problems want to pull their hair out. And then we have some more bad dialog and after that some more great action. This is the rhythm of the film in a nutshell.  Stallones melodramatic exchange with Turner when they meet after a long time is so soapy so clichéd so fake and so bad that it should force a chuckle out of any self-respecting viewer. Soon after this display of awful dialog-writing we are witnesses to a spectacular and excellently shot hijack of an airplane. The entire action is one big absurdity but its mindless fun at its best. Although the rest of the action is exciting and fun the airplane scenes are truly the highlight of the film. After the landing our master-criminals seek for a guide and end up with Stallone and Rooker. They send Stallone to fetch the first case of money but somehow they do everything to make it as difficult as possible for him to reach it; they take most of his clothes off (so he can freeze) and they wont give him the equipment he needs (so he can fall off). DO THESE GANGSTERS WANT THEIR MONEY FETCHED OR NOT??? Very silly. Apparently they dont trust Stallone but surely they know that they can always black-mail him by using Rooker as a hostage. Nevertheless our gangsters make Stallones climb difficult if for no logical reasons then to at least show us how truly evil they are - lest there be any doubts. And for those who might still doubt how evil the bad guys are they overact brag and snicker in a truly evil manner. Everyone convinced? Good. Youd better be. Otherwise the writers will throw in a mass execution of twenty school children just to make sure that the evilness of the bad guys is crystal-clear to everyone. The old guy who flies the chopper... How the hell did he fall for the trap? Firstly he must have been warned by the MTV airhead about the criminals and secondly he must have heard Stallones and Rookers voices on the walkie-talkies. A whole bunch of idiotic verbal exchanges take place with Lithgow having the questionable honour of getting most of the silly lines. Get off my back! Lithgow: I havent even started climbing on your back. Or Lithgow to Stallone: We had a deal but now we only have each other! And as for Lithgows gang of murderers: these guys never seem to want to kill immediately. They are very creative about it; they philosophize pretend that they are playing football with your body and so on.  Stallone co-wrote this thing. I have no idea what drugs he was on when he did it. Id hate to think the script is this bad because of a low I.Q.'\n"
     ]
    }
   ],
   "source": [
    "for i in samp.index:\n",
    "    print(samp.loc[i, 'Text'])"
   ]
  },
  {
   "cell_type": "markdown",
   "metadata": {},
   "source": [
    "The 5 randomly chosen reviews above were all classified as positive reviews initially and misclassified as negative reviews by the logistic regression Tfidf model. Many movie reviews can be amgibuous before delivering a verdict, and the more thorough reviews are usually sure to include both positives and negatives about the film, making classification less binary than would be ideal. With these traits in mind, we can look for specific trends and keywords/phrases that would most likely appear in negative reviews overall, and check for them in these five reviews.\n",
    "\n",
    "In review 1, it is easy to pick out many negatively connoted words such as \"embarrassing, wrong, ache, inarticulate mess, pathetic, irritation, etc. The review overall seems to be the result of an evocation of intense feelings (mostly negative) which served to make the movie a compelling watch and positive from a movie-going experience. This type of complexity is hard to categorize.\n",
    "\n",
    "In review 2, we have tale of two halves, where the reviewer intensely criticizes the first half of the movie before briefly praising the second half, but included in that praise is a recommendation to watch the film. As in review 1, the concentration of negatively associated words throughout most of the review would have skewed this predictor negative.\n",
    "\n",
    "Reviews 3, 4, and 5 actually seem like cases of misclassification by the original dataset. Review 3 provides an unambiguous diatribe of the movie in very few words, using key words such as \"stupid, wasted, no stars\". In review 4, the reviewer is very sarcastic and uses words like \"bravo, thanks, kudos\" in a disparaging manner, while other phrases such as \"ridiculous farce, plain silly, atrocious actresses\" reveal the true sentiment towards the film. Sarcasm and context/connotation is difficult to overcome when word denotations are quite binary in this model. In the long-winded review 5, a plot summary is provided and ridicules the movie while succinctly praising certain aspects. Overall, words/phrases such as \"hilarious\" (used in a negative connotation), \"good\", \"mindless fun\", and \"excellently shot\", which classified this review as positive, were outweighed in the LR Tfidf model by the plethora of negative words which capture the overall sentiment of the review."
   ]
  },
  {
   "cell_type": "code",
   "execution_count": null,
   "metadata": {},
   "outputs": [],
   "source": []
  }
 ],
 "metadata": {
  "anaconda-cloud": {},
  "kernelspec": {
   "display_name": "Python 3",
   "language": "python",
   "name": "python3"
  },
  "language_info": {
   "codemirror_mode": {
    "name": "ipython",
    "version": 3
   },
   "file_extension": ".py",
   "mimetype": "text/x-python",
   "name": "python",
   "nbconvert_exporter": "python",
   "pygments_lexer": "ipython3",
   "version": "3.8.3"
  }
 },
 "nbformat": 4,
 "nbformat_minor": 1
}
